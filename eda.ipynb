{
 "cells": [
  {
   "cell_type": "code",
   "execution_count": 25,
   "metadata": {
    "collapsed": false
   },
   "outputs": [],
   "source": [
    "import csv\n",
    "import re\n",
    "import sumy\n",
    "courses = {}\n",
    "course_summaries = {}\n",
    "#Extract prerequisite information from the .tsv to identify {foundational, applied, meta} weights."
   ]
  },
  {
   "cell_type": "code",
   "execution_count": 26,
   "metadata": {
    "collapsed": false
   },
   "outputs": [],
   "source": [
    "foundational = []\n",
    "applied = []\n",
    "meta = []\n",
    "\n",
    "with open('courses.tsv', 'r') as csvfile:\n",
    "    cols = csv.reader(csvfile, delimiter='\\t')\n",
    "    #loop through every class\n",
    "    for col in cols:\n",
    "        prereqs = col[3].split(\",\")\n",
    "\n",
    "        # Determine Relevance\n",
    "        if col[8]:\n",
    "            relevance = col[8]\n",
    "            rel_lst = foundational\n",
    "        elif col[9]:\n",
    "            relevance = col[9]\n",
    "            rel_lst = applied\n",
    "        else:\n",
    "            relevance = col[10]\n",
    "            rel_lst = meta\n",
    "        \n",
    "        #rel_list is the same list of classes but with more concise info\n",
    "        course_name = col[0] + \" \" + col[1]\n",
    "        rel_lst.append(course_name)\n",
    "        \n",
    "        #loop thorugh each class's pre-req\n",
    "        for prereq in prereqs:\n",
    "            #courses has non-repeated pre-reqs, but possible repeated follow-up classes\n",
    "            if prereq not in courses:\n",
    "                courses[prereq] = [course_name]\n",
    "            elif course_name not in courses[prereq]:\n",
    "                courses[prereq].append(course_name)\n",
    "        #course summaries are course descriptions of each course \n",
    "        course_summaries[course_name] = col[4]\n"
   ]
  },
  {
   "cell_type": "code",
   "execution_count": 30,
   "metadata": {
    "collapsed": false
   },
   "outputs": [
    {
     "data": {
      "text/plain": [
       "{' CS 70': ['Computer Science (COMPSCI) 194-16',\n",
       "  'Computer Science (COMPSCI) 189',\n",
       "  'Electrical Engineering (EL ENG) 144'],\n",
       " ' MATH 10A - MATH 10B or STAT 2': ['Psychology (PSYCH) 10',\n",
       "  'Psychology (PSYCH) 101'],\n",
       " 'MASSCOM 10': ['Mass Communications (MASSCOM) 130',\n",
       "  'Media Studies (MEDIAST) 130'],\n",
       " 'MATH 1A': ['Computer Science (COMPSCI) 61A',\n",
       "  'Statistics (STAT) 134',\n",
       "  'Statistics (STAT) 20',\n",
       "  'Earth and Planetary Science (EPS) 109',\n",
       "  'Physics (PHYSICS) 77',\n",
       "  'Cognitive Science (COG SCI) 131'],\n",
       " 'PHILOS 4': ['Philosophy (PHILOS) 100']}"
      ]
     },
     "execution_count": 30,
     "metadata": {},
     "output_type": "execute_result"
    }
   ],
   "source": [
    "dict(list(courses.items())[0:5])"
   ]
  },
  {
   "cell_type": "code",
   "execution_count": 19,
   "metadata": {
    "collapsed": false
   },
   "outputs": [
    {
     "data": {
      "text/html": [
       "<div>\n",
       "<table border=\"1\" class=\"dataframe\">\n",
       "  <thead>\n",
       "    <tr style=\"text-align: right;\">\n",
       "      <th></th>\n",
       "    </tr>\n",
       "  </thead>\n",
       "  <tbody>\n",
       "  </tbody>\n",
       "</table>\n",
       "</div>"
      ],
      "text/plain": [
       "Empty DataFrame\n",
       "Columns: []\n",
       "Index: []"
      ]
     },
     "execution_count": 19,
     "metadata": {},
     "output_type": "execute_result"
    }
   ],
   "source": []
  },
  {
   "cell_type": "code",
   "execution_count": 60,
   "metadata": {
    "collapsed": true
   },
   "outputs": [],
   "source": [
    "# Remove Duplicates\n",
    "remove_courses = []\n",
    "for prereq in courses:\n",
    "    for prereq_string in courses:\n",
    "        if prereq_string != prereq and prereq in prereq_string:\n",
    "            for ele in courses[prereq_string]:\n",
    "                if ele not in courses[prereq]:\n",
    "                    courses[prereq].append(ele)\n",
    "            remove_courses.append(prereq_string)\n",
    "\n",
    "for course in remove_courses:\n",
    "    if course in courses:\n",
    "        courses.pop(course)\n",
    "    if course in course_summaries:\n",
    "        course_summaries.pop(course)"
   ]
  },
  {
   "cell_type": "code",
   "execution_count": 31,
   "metadata": {
    "collapsed": false
   },
   "outputs": [
    {
     "data": {
      "text/plain": [
       "{' CS 70': ['Computer Science (COMPSCI) 194-16',\n",
       "  'Computer Science (COMPSCI) 189',\n",
       "  'Electrical Engineering (EL ENG) 144'],\n",
       " ' MATH 10A - MATH 10B or STAT 2': ['Psychology (PSYCH) 10',\n",
       "  'Psychology (PSYCH) 101'],\n",
       " 'MASSCOM 10': ['Mass Communications (MASSCOM) 130',\n",
       "  'Media Studies (MEDIAST) 130'],\n",
       " 'MATH 1A': ['Computer Science (COMPSCI) 61A',\n",
       "  'Statistics (STAT) 134',\n",
       "  'Statistics (STAT) 20',\n",
       "  'Earth and Planetary Science (EPS) 109',\n",
       "  'Physics (PHYSICS) 77',\n",
       "  'Cognitive Science (COG SCI) 131'],\n",
       " 'PHILOS 4': ['Philosophy (PHILOS) 100']}"
      ]
     },
     "execution_count": 31,
     "metadata": {},
     "output_type": "execute_result"
    }
   ],
   "source": [
    "dict(list(courses.items())[0:5])"
   ]
  },
  {
   "cell_type": "code",
   "execution_count": null,
   "metadata": {
    "collapsed": true
   },
   "outputs": [],
   "source": [
    "with open('prereq_dictionary.txt', \"w\") as writefile:\n",
    "    for key in sorted(courses.keys()):\n",
    "        writefile.write(\"\\n\" + str(key).strip(\" \") + \":\\n\")\n",
    "        for value in courses[key]:\n",
    "            writefile.write(\"\\t\" + str(value) + \"\\n\")\n"
   ]
  },
  {
   "cell_type": "code",
   "execution_count": 10,
   "metadata": {
    "collapsed": true
   },
   "outputs": [],
   "source": [
    "with open(\"course_summaries.txt\", \"w\") as summaries:\n",
    "    for key in sorted(course_summaries.keys()):\n",
    "        summaries.write(\"\\n\" + str(key).strip(\" \") + \":\\n\")\n",
    "        summaries.write(\"\\t\" + str(course_summaries[key]) + \"\\n\")"
   ]
  },
  {
   "cell_type": "code",
   "execution_count": null,
   "metadata": {
    "collapsed": true
   },
   "outputs": [],
   "source": [
    "with open(\"relevance.txt\", \"w\") as relevance_file:\n",
    "    relevance_file.write(\"Foundational\\n\")\n",
    "    relevance_file.write(str(foundational) + \"\\n\\n\")\n",
    "    relevance_file.write(\"Applied\\n\")\n",
    "    relevance_file.write(str(applied) + \"\\n\\n\")\n",
    "    relevance_file.write(\"Meta\\n\")\n",
    "    relevance_file.write(str(meta) + \"\\n\\n\")"
   ]
  },
  {
   "cell_type": "code",
   "execution_count": 24,
   "metadata": {
    "collapsed": true
   },
   "outputs": [],
   "source": [
    "import csv\n",
    "import sumy\n",
    "from nltk import ngrams"
   ]
  },
  {
   "cell_type": "code",
   "execution_count": 56,
   "metadata": {
    "collapsed": true
   },
   "outputs": [],
   "source": [
    "clusters = {}\n",
    "cluster_descriptions = {}\n",
    "courses = {}\n",
    "foundational = []\n",
    "applied = []\n",
    "meta = []\n",
    "with open('single_clustered_courses.txt', 'r') as readfile:\n",
    "    \n",
    "        name = col[0] + \" \" + col[1]\n",
    "        description = col[6]\n",
    "        cluster = col[7].replace(\"/\", \" & \")\n",
    "        if cluster == \"nan\":\n",
    "            continue\n",
    "        if cluster not in clusters:\n",
    "            clusters[cluster] = [name]\n",
    "            cluster_descriptions[cluster] = [description]\n",
    "        else:\n",
    "            clusters[cluster].append(name)\n",
    "            cluster_descriptions[cluster].append(description)\n",
    "\n",
    "\n",
    "with open('./clusters/all', \"w\") as writeall:\n",
    "    for cluster_name in clusters:\n",
    "        with open('./clusters/' + cluster_name, \"w\") as writefile:\n",
    "\n",
    "            writefile.write(cluster_name + \"\\n\")\n",
    "            writeall.write(cluster_name + \"\\n\")\n",
    "            for course in clusters[cluster_name]:\n",
    "                writefile.write(\"\\t\" + course + \"\\n\")\n",
    "                writeall.write(\"\\t\" + course + \"\\n\")\n",
    "\n",
    "        with open(\"./tokenized_phrases/\" + cluster_name, \"w\") as write_description_file:\n",
    "            all_tokenized_phrases = []\n",
    "            for description in cluster_descriptions[cluster_name]:\n",
    "                all_tokenized_phrases.extend([x for x in ngrams(description.split(), 1)])\n",
    "                all_tokenized_phrases.extend([x for x in ngrams(description.split(), 2)])\n",
    "                all_tokenized_phrases.extend([x for x in ngrams(description.split(), 3)])\n",
    "            write_description_file.write(str(all_tokenized_phrases))"
   ]
  },
  {
   "cell_type": "code",
   "execution_count": null,
   "metadata": {
    "collapsed": false
   },
   "outputs": [],
   "source": []
  },
  {
   "cell_type": "code",
   "execution_count": 65,
   "metadata": {
    "collapsed": false
   },
   "outputs": [],
   "source": [
    "test = clusters['Mathematics & Statistics']"
   ]
  },
  {
   "cell_type": "code",
   "execution_count": 66,
   "metadata": {
    "collapsed": false,
    "scrolled": true
   },
   "outputs": [
    {
     "data": {
      "text/plain": [
       "['Mathematics (MATH) 191',\n",
       " 'Mathematics (MATH) 54',\n",
       " 'Mathematics (MATH) 170',\n",
       " 'Mathematics (MATH) 128A',\n",
       " 'Public Health (PB HLTH) 145',\n",
       " 'Statistics (STAT) 133',\n",
       " 'Statistics (STAT) 134',\n",
       " 'Statistics (STAT) 135',\n",
       " 'Statistics (STAT) 89A',\n",
       " 'Statistics (STAT) 131A',\n",
       " 'Statistics (STAT) 151A',\n",
       " 'Statistics (STAT) 154',\n",
       " 'Statistics (STAT) 88',\n",
       " 'Statistics (STAT) 159',\n",
       " 'Statistics (STAT) 152',\n",
       " 'Statistics (STAT) 158',\n",
       " 'Statistics (STAT) 153']"
      ]
     },
     "execution_count": 66,
     "metadata": {},
     "output_type": "execute_result"
    }
   ],
   "source": [
    "test"
   ]
  },
  {
   "cell_type": "code",
   "execution_count": 68,
   "metadata": {
    "collapsed": true
   },
   "outputs": [],
   "source": [
    "def tree(root, branches = []):\n",
    "    for branch in branches:\n",
    "        assert is_tree(branch)\n",
    "    return [root] + list(branches)\n",
    "\n",
    "def root(tree):\n",
    "    return tree[0]\n",
    "\n",
    "def branches(tree):\n",
    "    return tree[1:]\n",
    "\n",
    "def is_tree(tree):\n",
    "    if type(tree) != list or len(tree) < 1:\n",
    "        return False\n",
    "    for branch in branches(tree):\n",
    "        if not is_tree(branch):\n",
    "            return False\n",
    "    return True\n",
    "\n",
    "def is_leaf(tree):\n",
    "    return not branches(tree)\n",
    "    \n",
    "def print_tree(t, indent = 0):\n",
    "    print(' ' * indent + str(root(t)))\n",
    "    for b in branches(t):\n",
    "        print_tree(b, indent + 1)"
   ]
  },
  {
   "cell_type": "code",
   "execution_count": null,
   "metadata": {
    "collapsed": true
   },
   "outputs": [],
   "source": [
    "#judge whether a course is a followup course; if it is, we want to put it in later position of a tree, and record its \n",
    "#pre-reqs; if not,we want to put it as a leaf (which is going to be implemented in treeify function).\n",
    "def follow_up_course(course, prereq_dict):\n",
    "    ls = []\n",
    "    for key in prereq_dict.keys():\n",
    "        if course in prereq_dict[key]:\n",
    "            ls.append(key)\n",
    "    return ls\n",
    "\n",
    "\n",
    "def treeify(lst):\n",
    "    # Say we only look at 'Mathematics & Statistics' cluster, we first see what follow_up_course(course) returns. \n",
    "    # If true, we need to find all keys and further look at whether they are follow_up_course, until none of the resulting \n",
    "    # keys are follow_up courses.\n",
    "    # Then we place these courses as the root of the tree (like Math 1A)\n",
    "    "
   ]
  },
  {
   "cell_type": "code",
   "execution_count": 74,
   "metadata": {
    "collapsed": false
   },
   "outputs": [
    {
     "data": {
      "text/plain": [
       "['MATH 1B', ['Mathematics (MATH) 54'], ['Statistics (STAT) 133']]"
      ]
     },
     "execution_count": 74,
     "metadata": {},
     "output_type": "execute_result"
    }
   ],
   "source": [
    "tree('MATH 1B', [tree('Mathematics (MATH) 54'), tree('Statistics (STAT) 133')])"
   ]
  },
  {
   "cell_type": "code",
   "execution_count": 13,
   "metadata": {
    "collapsed": true
   },
   "outputs": [],
   "source": []
  }
 ],
 "metadata": {
  "kernelspec": {
   "display_name": "Python 3",
   "language": "python",
   "name": "python3"
  },
  "language_info": {
   "codemirror_mode": {
    "name": "ipython",
    "version": 3
   },
   "file_extension": ".py",
   "mimetype": "text/x-python",
   "name": "python",
   "nbconvert_exporter": "python",
   "pygments_lexer": "ipython3",
   "version": "3.5.1"
  }
 },
 "nbformat": 4,
 "nbformat_minor": 0
}
